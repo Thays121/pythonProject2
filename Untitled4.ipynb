{
  "nbformat": 4,
  "nbformat_minor": 0,
  "metadata": {
    "colab": {
      "name": "Untitled4.ipynb",
      "provenance": [],
      "authorship_tag": "ABX9TyPs7M//zoyE7mtnXWuH7I+y",
      "include_colab_link": true
    },
    "kernelspec": {
      "name": "python3",
      "display_name": "Python 3"
    },
    "language_info": {
      "name": "python"
    }
  },
  "cells": [
    {
      "cell_type": "markdown",
      "metadata": {
        "id": "view-in-github",
        "colab_type": "text"
      },
      "source": [
        "<a href=\"https://colab.research.google.com/github/Thays121/Calculadora-basic-exercicio-2/blob/Thays121-patch-1/Untitled4.ipynb\" target=\"_parent\"><img src=\"https://colab.research.google.com/assets/colab-badge.svg\" alt=\"Open In Colab\"/></a>"
      ]
    },
    {
      "cell_type": "code",
      "metadata": {
        "id": "YtpohKFJrMpL"
      },
      "source": [
        ""
      ],
      "execution_count": null,
      "outputs": []
    },
    {
      "cell_type": "code",
      "metadata": {
        "colab": {
          "base_uri": "https://localhost:8080/"
        },
        "id": "9hQyeOCVI3KK",
        "outputId": "7026ea07-4f7c-4fa0-eb5c-25123aa9d465"
      },
      "source": [
        "while True:\n",
        "#programa principal para incerir dados\n",
        " dados = int(input('Incerir dados? Sim - 1   Não - 0?'))\n",
        "#usei a condicional com o operador boleano caso digite 0 encerre o programa caso digite 1 continue\n",
        " if (dados < 1 and dados == 0):\n",
        "    print(' Programa Encerrado...')\n",
        " else:\n",
        "     continue\n",
        " dados = int(input('Incerir dados? Sim - 1   Não - 0?'))\n",
        " nome = (input('Nome do aluno:'))\n",
        " nota = float(input('Nota final:'))\n",
        " conceito = ('E, D, C, B, A')\n",
        "\n",
        "#usei a condiçao de multipla escolha para nota e fiz um print do conceito concatenando com nome e nota\n",
        " if nota <= 2.9:\n",
        "            print('O aluno {} tirou nota {} e se enquadra no conceito E!'.format(nome, nota))\n",
        "\n",
        " elif nota <= 4.9:\n",
        "             print('O aluno {} tirou nota {} e se enquadra no conceito D!'.format(nome, nota))\n",
        " elif nota <= 6.9:\n",
        "             print('O aluno {} tirou nota {} e se enquadra no conceito C!'.format(nome, nota))\n",
        " elif nota <= 8.9:\n",
        "            print('O aluno {} tirou nota {} e se enquadra no conceito B!'.format(nome, nota))\n",
        "\n",
        " elif nota <= 10.0:\n",
        "        print('O aluno {} tirou nota {} e se enquadra no conceito A!'.format(nome, nota))"
      ],
      "execution_count": null,
      "outputs": [
        {
          "output_type": "stream",
          "text": [
            "Incerir dados? Sim - 1   Não - 0?0\n",
            " Programa Encerrado...\n"
          ],
          "name": "stdout"
        }
      ]
    }
  ]
}